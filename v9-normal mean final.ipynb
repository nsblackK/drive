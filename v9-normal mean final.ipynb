{
 "cells": [
  {
   "cell_type": "code",
   "execution_count": 1,
   "metadata": {
    "id": "YJt95AY3LBt7"
   },
   "outputs": [],
   "source": [
    "#External libraries\n",
    "import pandas as pd\n",
    "import numpy as np\n",
    "import time"
   ]
  },
  {
   "cell_type": "code",
   "execution_count": 2,
   "metadata": {
    "id": "1w2XFk41LJqN"
   },
   "outputs": [],
   "source": [
    "#Import torch\n",
    "import torch\n",
    "import torch.nn as nn\n",
    "import torch.utils.data as data_utils"
   ]
  },
  {
   "cell_type": "code",
   "execution_count": 3,
   "metadata": {},
   "outputs": [
    {
     "name": "stdout",
     "output_type": "stream",
     "text": [
      "Collecting python-dp\n",
      "  Downloading python_dp-1.1.1-cp37-cp37m-manylinux1_x86_64.whl (3.5 MB)\n",
      "\u001b[K     |████████████████████████████████| 3.5 MB 23.5 MB/s eta 0:00:01\n",
      "\u001b[?25hInstalling collected packages: python-dp\n",
      "Successfully installed python-dp-1.1.1\n",
      "\u001b[33mWARNING: Running pip as the 'root' user can result in broken permissions and conflicting behaviour with the system package manager. It is recommended to use a virtual environment instead: https://pip.pypa.io/warnings/venv\u001b[0m\n",
      "\u001b[33mWARNING: You are using pip version 21.2.4; however, version 22.0.3 is available.\n",
      "You should consider upgrading via the '/usr/local/bin/python -m pip install --upgrade pip' command.\u001b[0m\n"
     ]
    }
   ],
   "source": [
    "! pip install python-dp\n"
   ]
  },
  {
   "cell_type": "code",
   "execution_count": 4,
   "metadata": {},
   "outputs": [],
   "source": [
    "import pydp as dp  # by convention our package is to be imported as dp (for Differential Privacy!)\n",
    "from pydp.algorithms.laplacian import BoundedMean"
   ]
  },
  {
   "cell_type": "code",
   "execution_count": 5,
   "metadata": {
    "id": "WIjhqLpuLJxQ"
   },
   "outputs": [
    {
     "data": {
      "text/plain": [
       "<torch._C.Generator at 0x7ff090a2b970>"
      ]
     },
     "execution_count": 5,
     "metadata": {},
     "output_type": "execute_result"
    }
   ],
   "source": [
    "#Set a manual seed to maintain consistency\n",
    "torch.manual_seed(0)"
   ]
  },
  {
   "cell_type": "markdown",
   "metadata": {
    "id": "xb49SPpVLJ2j"
   },
   "source": [
    "<h2>Data Loading and Processing</h2>"
   ]
  },
  {
   "cell_type": "code",
   "execution_count": 6,
   "metadata": {
    "id": "9rIrXsNeLJ63"
   },
   "outputs": [
    {
     "name": "stdout",
     "output_type": "stream",
     "text": [
      "Hit:1 http://deb.debian.org/debian buster InRelease\n",
      "Get:2 http://deb.debian.org/debian buster-updates InRelease [51.9 kB]\n",
      "Get:3 http://security.debian.org/debian-security buster/updates InRelease [65.4 kB]\n",
      "Get:4 http://security.debian.org/debian-security buster/updates/main amd64 Packages [314 kB]\n",
      "Fetched 431 kB in 1s (566 kB/s)    \n",
      "Reading package lists... Done\n",
      "Reading package lists... Done\n",
      "Building dependency tree       \n",
      "Reading state information... Done\n",
      "The following NEW packages will be installed:\n",
      "  wget\n",
      "0 upgraded, 1 newly installed, 0 to remove and 0 not upgraded.\n",
      "Need to get 902 kB of archives.\n",
      "After this operation, 3335 kB of additional disk space will be used.\n",
      "Get:1 http://deb.debian.org/debian buster/main amd64 wget amd64 1.20.1-1.1 [902 kB]\n",
      "Fetched 902 kB in 0s (26.3 MB/s)\n",
      "debconf: delaying package configuration, since apt-utils is not installed\n",
      "Selecting previously unselected package wget.\n",
      "(Reading database ... 20003 files and directories currently installed.)\n",
      "Preparing to unpack .../wget_1.20.1-1.1_amd64.deb ...\n",
      "Unpacking wget (1.20.1-1.1) ...\n",
      "Setting up wget (1.20.1-1.1) ...\n"
     ]
    }
   ],
   "source": [
    "!apt-get update\n",
    "!apt-get install wget"
   ]
  },
  {
   "cell_type": "code",
   "execution_count": 7,
   "metadata": {
    "id": "BZCZFdjPLJ-v"
   },
   "outputs": [
    {
     "name": "stdout",
     "output_type": "stream",
     "text": [
      "--2022-02-05 09:01:53--  https://archive.ics.uci.edu/ml/machine-learning-databases/housing/housing.data\n",
      "Resolving archive.ics.uci.edu (archive.ics.uci.edu)... 128.195.10.252\n",
      "Connecting to archive.ics.uci.edu (archive.ics.uci.edu)|128.195.10.252|:443... connected.\n",
      "HTTP request sent, awaiting response... 200 OK\n",
      "Length: 49082 (48K) [application/x-httpd-php]\n",
      "Saving to: ‘housing.data’\n",
      "\n",
      "housing.data        100%[===================>]  47.93K  --.-KB/s    in 0.1s    \n",
      "\n",
      "2022-02-05 09:01:54 (327 KB/s) - ‘housing.data’ saved [49082/49082]\n",
      "\n"
     ]
    }
   ],
   "source": [
    "#Download Boston housing dataset\n",
    "!wget https://archive.ics.uci.edu/ml/machine-learning-databases/housing/housing.data"
   ]
  },
  {
   "cell_type": "code",
   "execution_count": 8,
   "metadata": {
    "id": "BZa2H2ptLKC2"
   },
   "outputs": [],
   "source": [
    "#Import dataset and add headers\n",
    "dataset=pd.read_csv(\"housing.data\",delim_whitespace=True,\n",
    "                    names=[\"crim\",\"zn\",\"indus\",\n",
    "                           \"chas\",\"nox\",\"rm\",\n",
    "                           \"age\",\"dis\",\"rad\",\n",
    "                           \"tax\",\"ptratio\",\"black\",\n",
    "                           \"lstat\",\"medv\"])"
   ]
  },
  {
   "cell_type": "code",
   "execution_count": 9,
   "metadata": {
    "id": "JCLSxU7uLKGn"
   },
   "outputs": [
    {
     "data": {
      "text/html": [
       "<div>\n",
       "<style scoped>\n",
       "    .dataframe tbody tr th:only-of-type {\n",
       "        vertical-align: middle;\n",
       "    }\n",
       "\n",
       "    .dataframe tbody tr th {\n",
       "        vertical-align: top;\n",
       "    }\n",
       "\n",
       "    .dataframe thead th {\n",
       "        text-align: right;\n",
       "    }\n",
       "</style>\n",
       "<table border=\"1\" class=\"dataframe\">\n",
       "  <thead>\n",
       "    <tr style=\"text-align: right;\">\n",
       "      <th></th>\n",
       "      <th>crim</th>\n",
       "      <th>zn</th>\n",
       "      <th>indus</th>\n",
       "      <th>chas</th>\n",
       "      <th>nox</th>\n",
       "      <th>rm</th>\n",
       "      <th>age</th>\n",
       "      <th>dis</th>\n",
       "      <th>rad</th>\n",
       "      <th>tax</th>\n",
       "      <th>ptratio</th>\n",
       "      <th>black</th>\n",
       "      <th>lstat</th>\n",
       "      <th>medv</th>\n",
       "    </tr>\n",
       "  </thead>\n",
       "  <tbody>\n",
       "    <tr>\n",
       "      <th>0</th>\n",
       "      <td>0.00632</td>\n",
       "      <td>18.0</td>\n",
       "      <td>2.31</td>\n",
       "      <td>0</td>\n",
       "      <td>0.538</td>\n",
       "      <td>6.575</td>\n",
       "      <td>65.2</td>\n",
       "      <td>4.0900</td>\n",
       "      <td>1</td>\n",
       "      <td>296.0</td>\n",
       "      <td>15.3</td>\n",
       "      <td>396.90</td>\n",
       "      <td>4.98</td>\n",
       "      <td>24.0</td>\n",
       "    </tr>\n",
       "    <tr>\n",
       "      <th>1</th>\n",
       "      <td>0.02731</td>\n",
       "      <td>0.0</td>\n",
       "      <td>7.07</td>\n",
       "      <td>0</td>\n",
       "      <td>0.469</td>\n",
       "      <td>6.421</td>\n",
       "      <td>78.9</td>\n",
       "      <td>4.9671</td>\n",
       "      <td>2</td>\n",
       "      <td>242.0</td>\n",
       "      <td>17.8</td>\n",
       "      <td>396.90</td>\n",
       "      <td>9.14</td>\n",
       "      <td>21.6</td>\n",
       "    </tr>\n",
       "    <tr>\n",
       "      <th>2</th>\n",
       "      <td>0.02729</td>\n",
       "      <td>0.0</td>\n",
       "      <td>7.07</td>\n",
       "      <td>0</td>\n",
       "      <td>0.469</td>\n",
       "      <td>7.185</td>\n",
       "      <td>61.1</td>\n",
       "      <td>4.9671</td>\n",
       "      <td>2</td>\n",
       "      <td>242.0</td>\n",
       "      <td>17.8</td>\n",
       "      <td>392.83</td>\n",
       "      <td>4.03</td>\n",
       "      <td>34.7</td>\n",
       "    </tr>\n",
       "    <tr>\n",
       "      <th>3</th>\n",
       "      <td>0.03237</td>\n",
       "      <td>0.0</td>\n",
       "      <td>2.18</td>\n",
       "      <td>0</td>\n",
       "      <td>0.458</td>\n",
       "      <td>6.998</td>\n",
       "      <td>45.8</td>\n",
       "      <td>6.0622</td>\n",
       "      <td>3</td>\n",
       "      <td>222.0</td>\n",
       "      <td>18.7</td>\n",
       "      <td>394.63</td>\n",
       "      <td>2.94</td>\n",
       "      <td>33.4</td>\n",
       "    </tr>\n",
       "    <tr>\n",
       "      <th>4</th>\n",
       "      <td>0.06905</td>\n",
       "      <td>0.0</td>\n",
       "      <td>2.18</td>\n",
       "      <td>0</td>\n",
       "      <td>0.458</td>\n",
       "      <td>7.147</td>\n",
       "      <td>54.2</td>\n",
       "      <td>6.0622</td>\n",
       "      <td>3</td>\n",
       "      <td>222.0</td>\n",
       "      <td>18.7</td>\n",
       "      <td>396.90</td>\n",
       "      <td>5.33</td>\n",
       "      <td>36.2</td>\n",
       "    </tr>\n",
       "  </tbody>\n",
       "</table>\n",
       "</div>"
      ],
      "text/plain": [
       "      crim    zn  indus  chas    nox     rm   age     dis  rad    tax  \\\n",
       "0  0.00632  18.0   2.31     0  0.538  6.575  65.2  4.0900    1  296.0   \n",
       "1  0.02731   0.0   7.07     0  0.469  6.421  78.9  4.9671    2  242.0   \n",
       "2  0.02729   0.0   7.07     0  0.469  7.185  61.1  4.9671    2  242.0   \n",
       "3  0.03237   0.0   2.18     0  0.458  6.998  45.8  6.0622    3  222.0   \n",
       "4  0.06905   0.0   2.18     0  0.458  7.147  54.2  6.0622    3  222.0   \n",
       "\n",
       "   ptratio   black  lstat  medv  \n",
       "0     15.3  396.90   4.98  24.0  \n",
       "1     17.8  396.90   9.14  21.6  \n",
       "2     17.8  392.83   4.03  34.7  \n",
       "3     18.7  394.63   2.94  33.4  \n",
       "4     18.7  396.90   5.33  36.2  "
      ]
     },
     "execution_count": 9,
     "metadata": {},
     "output_type": "execute_result"
    }
   ],
   "source": [
    "#Visualize and look at columns and rows of dataset\n",
    "dataset.head()"
   ]
  },
  {
   "cell_type": "code",
   "execution_count": 10,
   "metadata": {
    "id": "X2qDiB1RLKKJ"
   },
   "outputs": [
    {
     "data": {
      "text/html": [
       "<div>\n",
       "<style scoped>\n",
       "    .dataframe tbody tr th:only-of-type {\n",
       "        vertical-align: middle;\n",
       "    }\n",
       "\n",
       "    .dataframe tbody tr th {\n",
       "        vertical-align: top;\n",
       "    }\n",
       "\n",
       "    .dataframe thead th {\n",
       "        text-align: right;\n",
       "    }\n",
       "</style>\n",
       "<table border=\"1\" class=\"dataframe\">\n",
       "  <thead>\n",
       "    <tr style=\"text-align: right;\">\n",
       "      <th></th>\n",
       "      <th>crim</th>\n",
       "      <th>zn</th>\n",
       "      <th>indus</th>\n",
       "      <th>chas</th>\n",
       "      <th>nox</th>\n",
       "      <th>rm</th>\n",
       "      <th>age</th>\n",
       "      <th>dis</th>\n",
       "      <th>rad</th>\n",
       "      <th>tax</th>\n",
       "      <th>ptratio</th>\n",
       "      <th>black</th>\n",
       "      <th>lstat</th>\n",
       "      <th>medv</th>\n",
       "    </tr>\n",
       "  </thead>\n",
       "  <tbody>\n",
       "    <tr>\n",
       "      <th>0</th>\n",
       "      <td>0.00632</td>\n",
       "      <td>18.0</td>\n",
       "      <td>2.31</td>\n",
       "      <td>0</td>\n",
       "      <td>0.538</td>\n",
       "      <td>6.575</td>\n",
       "      <td>65.2</td>\n",
       "      <td>4.0900</td>\n",
       "      <td>1</td>\n",
       "      <td>296.0</td>\n",
       "      <td>15.3</td>\n",
       "      <td>396.90</td>\n",
       "      <td>4.98</td>\n",
       "      <td>24.0</td>\n",
       "    </tr>\n",
       "    <tr>\n",
       "      <th>1</th>\n",
       "      <td>0.02731</td>\n",
       "      <td>0.0</td>\n",
       "      <td>7.07</td>\n",
       "      <td>0</td>\n",
       "      <td>0.469</td>\n",
       "      <td>6.421</td>\n",
       "      <td>78.9</td>\n",
       "      <td>4.9671</td>\n",
       "      <td>2</td>\n",
       "      <td>242.0</td>\n",
       "      <td>17.8</td>\n",
       "      <td>396.90</td>\n",
       "      <td>9.14</td>\n",
       "      <td>21.6</td>\n",
       "    </tr>\n",
       "    <tr>\n",
       "      <th>2</th>\n",
       "      <td>0.02729</td>\n",
       "      <td>0.0</td>\n",
       "      <td>7.07</td>\n",
       "      <td>0</td>\n",
       "      <td>0.469</td>\n",
       "      <td>7.185</td>\n",
       "      <td>61.1</td>\n",
       "      <td>4.9671</td>\n",
       "      <td>2</td>\n",
       "      <td>242.0</td>\n",
       "      <td>17.8</td>\n",
       "      <td>392.83</td>\n",
       "      <td>4.03</td>\n",
       "      <td>34.7</td>\n",
       "    </tr>\n",
       "    <tr>\n",
       "      <th>3</th>\n",
       "      <td>0.03237</td>\n",
       "      <td>0.0</td>\n",
       "      <td>2.18</td>\n",
       "      <td>0</td>\n",
       "      <td>0.458</td>\n",
       "      <td>6.998</td>\n",
       "      <td>45.8</td>\n",
       "      <td>6.0622</td>\n",
       "      <td>3</td>\n",
       "      <td>222.0</td>\n",
       "      <td>18.7</td>\n",
       "      <td>394.63</td>\n",
       "      <td>2.94</td>\n",
       "      <td>33.4</td>\n",
       "    </tr>\n",
       "    <tr>\n",
       "      <th>4</th>\n",
       "      <td>0.06905</td>\n",
       "      <td>0.0</td>\n",
       "      <td>2.18</td>\n",
       "      <td>0</td>\n",
       "      <td>0.458</td>\n",
       "      <td>7.147</td>\n",
       "      <td>54.2</td>\n",
       "      <td>6.0622</td>\n",
       "      <td>3</td>\n",
       "      <td>222.0</td>\n",
       "      <td>18.7</td>\n",
       "      <td>396.90</td>\n",
       "      <td>5.33</td>\n",
       "      <td>36.2</td>\n",
       "    </tr>\n",
       "  </tbody>\n",
       "</table>\n",
       "</div>"
      ],
      "text/plain": [
       "      crim    zn  indus  chas    nox     rm   age     dis  rad    tax  \\\n",
       "0  0.00632  18.0   2.31     0  0.538  6.575  65.2  4.0900    1  296.0   \n",
       "1  0.02731   0.0   7.07     0  0.469  6.421  78.9  4.9671    2  242.0   \n",
       "2  0.02729   0.0   7.07     0  0.469  7.185  61.1  4.9671    2  242.0   \n",
       "3  0.03237   0.0   2.18     0  0.458  6.998  45.8  6.0622    3  222.0   \n",
       "4  0.06905   0.0   2.18     0  0.458  7.147  54.2  6.0622    3  222.0   \n",
       "\n",
       "   ptratio   black  lstat  medv  \n",
       "0     15.3  396.90   4.98  24.0  \n",
       "1     17.8  396.90   9.14  21.6  \n",
       "2     17.8  392.83   4.03  34.7  \n",
       "3     18.7  394.63   2.94  33.4  \n",
       "4     18.7  396.90   5.33  36.2  "
      ]
     },
     "execution_count": 10,
     "metadata": {},
     "output_type": "execute_result"
    }
   ],
   "source": [
    "#Visualize and look at columns and rows of dataset\n",
    "dataset.head()"
   ]
  },
  {
   "cell_type": "code",
   "execution_count": 11,
   "metadata": {},
   "outputs": [
    {
     "name": "stdout",
     "output_type": "stream",
     "text": [
      "5.0\n"
     ]
    }
   ],
   "source": [
    "#Split data into features and target variables\n",
    "features = dataset.drop(\"medv\",axis=1)\n",
    "targets = dataset[\"medv\"]\n",
    "print (min(targets))"
   ]
  },
  {
   "cell_type": "code",
   "execution_count": 12,
   "metadata": {
    "id": "pZsLH3stLKNm"
   },
   "outputs": [],
   "source": [
    "#Normalize features\n",
    "features = features.apply(\n",
    "    lambda x: (x - x.mean()) / x.std()\n",
    ")"
   ]
  },
  {
   "cell_type": "code",
   "execution_count": 13,
   "metadata": {
    "id": "r4jBJ4P2LKQ_"
   },
   "outputs": [],
   "source": [
    "#Convert features and targets into torch tensors\n",
    "features = torch.tensor(features.values.astype(np.float32)) \n",
    "targets = torch.tensor(targets.values.astype(np.float32))"
   ]
  },
  {
   "cell_type": "code",
   "execution_count": 14,
   "metadata": {
    "id": "SLzdxpT7LKUG"
   },
   "outputs": [],
   "source": [
    "# Arguments for training\n",
    "batch_size = 16\n",
    "epochs = 300\n",
    "train_test_split = 0.8\n",
    "lr = 0.001"
   ]
  },
  {
   "cell_type": "code",
   "execution_count": 15,
   "metadata": {
    "id": "vvjL5pfnLKW-"
   },
   "outputs": [],
   "source": [
    "#Split dataset into train and test\n",
    "train_indices=int(len(features)*train_test_split)\n",
    "\n",
    "train_x = features[:train_indices]\n",
    "train_y = targets[:train_indices]\n",
    "\n",
    "test_x = features[train_indices+1:]\n",
    "test_y = targets[train_indices+1:]"
   ]
  },
  {
   "cell_type": "code",
   "execution_count": 16,
   "metadata": {
    "id": "tfuL4IpHLKZ2"
   },
   "outputs": [],
   "source": [
    "#Divide dataset into batches\n",
    "def get_batches(X, y):\n",
    "    batches = []\n",
    "    for index in range(0,len(train_x)+1,batch_size):\n",
    "        batches.append((X[index:index+batch_size],y[index:index+batch_size]))\n",
    "    \n",
    "    return batches"
   ]
  },
  {
   "cell_type": "markdown",
   "metadata": {
    "id": "xoyS4zF2LKc3"
   },
   "source": [
    "<h1>Plaintext Training</h1>"
   ]
  },
  {
   "cell_type": "code",
   "execution_count": 17,
   "metadata": {
    "id": "bsj8zessLKfe"
   },
   "outputs": [],
   "source": [
    "#Import syft\n",
    "import syft as sy\n",
    "sy.logger.remove()"
   ]
  },
  {
   "cell_type": "code",
   "execution_count": 18,
   "metadata": {
    "id": "1YbNIrxxLKiY"
   },
   "outputs": [],
   "source": [
    "#Define Linear regression model\n",
    "class LinearSyNet(sy.Module):\n",
    "    def __init__(self, torch_ref):\n",
    "        super(LinearSyNet, self).__init__(torch_ref=torch_ref)\n",
    "        self.fc1 = self.torch_ref.nn.Linear(13,1)\n",
    "\n",
    "    def forward(self, x):\n",
    "        x = self.fc1(x)\n",
    "        return x"
   ]
  },
  {
   "cell_type": "code",
   "execution_count": 19,
   "metadata": {
    "id": "hX0sEcNtLKlc"
   },
   "outputs": [
    {
     "data": {
      "text/plain": [
       "'xtest=[]\\nxtest.append(np.array_split(test_x, nom))\\n\\nytest=[]\\nytest.append(np.array_split(test_y, nom))'"
      ]
     },
     "execution_count": 19,
     "metadata": {},
     "output_type": "execute_result"
    }
   ],
   "source": [
    "\"\"\"xtest=[]\n",
    "xtest.append(np.array_split(test_x, nom))\n",
    "\n",
    "ytest=[]\n",
    "ytest.append(np.array_split(test_y, nom))\"\"\""
   ]
  },
  {
   "cell_type": "code",
   "execution_count": 20,
   "metadata": {
    "id": "OCkN7O2UMDwT"
   },
   "outputs": [
    {
     "name": "stdout",
     "output_type": "stream",
     "text": [
      "404\n",
      "404\n"
     ]
    }
   ],
   "source": [
    "print(len(train_x))\n",
    "print(len(train_x[:404]))"
   ]
  },
  {
   "cell_type": "code",
   "execution_count": 21,
   "metadata": {
    "id": "OSYE_brBMDzy"
   },
   "outputs": [],
   "source": [
    "def Train(nom,m):\n",
    "    #Training Loop\n",
    "    train_batches=get_batches(train_x,train_y)\n",
    "\n",
    "\n",
    "    for i in range(nom):\n",
    "\n",
    "        model1 = LinearSyNet(torch)\n",
    "        criterion = torch.nn.MSELoss(reduction='mean') \n",
    "        optimizer = torch.optim.SGD(model1.parameters(), lr=lr)\n",
    "        print(\"model: \", i)\n",
    "        for epoch in range(epochs):\n",
    "          running_loss = 0.0\n",
    "          for index in range(0,len(train_batches)):\n",
    "            # Clear gradient buffers because we don't want any gradient from previous epoch to carry forward, dont want to cummulate gradients\n",
    "            optimizer.zero_grad()\n",
    "\n",
    "            # get output from the model, given the inputs\n",
    "            outputs = model1(train_batches[index][0]).reshape([-1])\n",
    "\n",
    "            # get loss for the predicted output\n",
    "            loss = criterion(outputs,train_batches[index][1])\n",
    "            running_loss += loss\n",
    "            # get gradients w.r.t to parameters\n",
    "            loss.backward()\n",
    "\n",
    "            # update parameters\n",
    "            optimizer.step()\n",
    "\n",
    "          test_accuracy = criterion(model1(test_x).reshape([-1]),test_y)\n",
    "          if((epoch%50)==0):\n",
    "             b =0\n",
    "             print(f\"Epoch {epoch}/{epochs}  Running Loss : {running_loss.item()/batch_size} and test loss: {test_accuracy.item()}\")\n",
    "\n",
    "        m.append(model1)\n",
    "        return criterion"
   ]
  },
  {
   "cell_type": "markdown",
   "metadata": {
    "id": "Cr_g-a33MD3j"
   },
   "source": [
    "<h1>Encrypted Inference</h1>"
   ]
  },
  {
   "cell_type": "code",
   "execution_count": 22,
   "metadata": {
    "id": "jhAiBfoKMD7e"
   },
   "outputs": [],
   "source": [
    "#SyMPC imports required for encrypted inference\n",
    "import sympc\n",
    "from sympc.session import Session\n",
    "from sympc.session import SessionManager\n",
    "from sympc.tensor import MPCTensor\n",
    "from sympc.protocol import Falcon,FSS"
   ]
  },
  {
   "cell_type": "code",
   "execution_count": 23,
   "metadata": {
    "id": "vHHj_2bHMD_J"
   },
   "outputs": [],
   "source": [
    "def get_clients(n_parties):\n",
    "  #Generate required number of syft clients and return them.\n",
    "\n",
    "  parties=[]\n",
    "  for index in range(n_parties): \n",
    "      parties.append(sy.VirtualMachine(name = \"worker\"+str(index)).get_root_client())\n",
    "\n",
    "  return parties"
   ]
  },
  {
   "cell_type": "code",
   "execution_count": 24,
   "metadata": {
    "id": "PDiab9GvMEDJ"
   },
   "outputs": [],
   "source": [
    "def split_send(data,session):\n",
    "    \"\"\"Splits data into number of chunks equal to number of parties and distributes it to respective \n",
    "       parties.\n",
    "    \"\"\"\n",
    "    data_pointers = []\n",
    "    \n",
    "    split_size = int(len(data)/len(session.parties))+1\n",
    "    for index in range(0,len(session.parties)):\n",
    "        ptr=data[index*split_size:index*split_size+split_size].share(session=session)\n",
    "        data_pointers.append(ptr)\n",
    "        \n",
    "    return data_pointers"
   ]
  },
  {
   "cell_type": "code",
   "execution_count": 25,
   "metadata": {},
   "outputs": [],
   "source": [
    "def private_mean(result,lower,upper,privacy_budget: float) -> float:\n",
    "    x = BoundedMean(privacy_budget,0,lower,upper, dtype=\"float\")\n",
    "    return x.quick_result(list(result))"
   ]
  },
  {
   "cell_type": "code",
   "execution_count": 26,
   "metadata": {},
   "outputs": [],
   "source": [
    "import statistics"
   ]
  },
  {
   "cell_type": "code",
   "execution_count": 27,
   "metadata": {},
   "outputs": [],
   "source": [
    "def transpose(a):\n",
    "    b=[]\n",
    "    for i in range(len(a[0])):\n",
    "        b.append([])\n",
    "        for j in range(3):\n",
    "            b[i].append(a[j][i])\n",
    "    return(b)"
   ]
  },
  {
   "cell_type": "code",
   "execution_count": 37,
   "metadata": {
    "id": "na33TcYEMEGx"
   },
   "outputs": [],
   "source": [
    "def inference(n_clients,nom,privacy_budget,protocol=None):\n",
    "\n",
    "  m=[]\n",
    "  #criterion=Train(nom,m)\n",
    "  train_batches=get_batches(train_x,train_y)\n",
    "\n",
    "\n",
    "  for i in range(nom):\n",
    "\n",
    "    model1 = LinearSyNet(torch)\n",
    "    criterion = torch.nn.MSELoss(reduction='mean') \n",
    "    optimizer = torch.optim.SGD(model1.parameters(), lr=lr)\n",
    "    #print(\"model: \", i)\n",
    "    for epoch in range(epochs):\n",
    "      running_loss = 0.0\n",
    "      for index in range(0,len(train_batches)):\n",
    "        # Clear gradient buffers because we don't want any gradient from previous epoch to carry forward, dont want to cummulate gradients\n",
    "        optimizer.zero_grad()\n",
    "\n",
    "        # get output from the model, given the inputs\n",
    "        outputs = model1(train_batches[index][0]).reshape([-1])\n",
    "\n",
    "        # get loss for the predicted output\n",
    "        loss = criterion(outputs,train_batches[index][1])\n",
    "        running_loss += loss\n",
    "        # get gradients w.r.t to parameters\n",
    "        loss.backward()\n",
    "\n",
    "        # update parameters\n",
    "        optimizer.step()\n",
    "\n",
    "      test_accuracy = criterion(model1(test_x).reshape([-1]),test_y)\n",
    "      if((epoch%50)==0):\n",
    "         b =0\n",
    "         #print(f\"Epoch {epoch}/{epochs}  Running Loss : {running_loss.item()/batch_size} and test loss: {test_accuracy.item()}\")\n",
    "\n",
    "    m.append(model1)\n",
    "    \n",
    "  print(\"models trained\")\n",
    "  # Get VM clients \n",
    "  parties=get_clients(n_clients)\n",
    "\n",
    "  # Setup the session for the computation\n",
    "  if(protocol):\n",
    "     session = Session(parties = parties,protocol = protocol)\n",
    "  else:\n",
    "     session = Session(parties = parties)\n",
    "        \n",
    "  SessionManager.setup_mpc(session)\n",
    "  pointers=[]\n",
    "  mpc_model=[]\n",
    "\n",
    "  \n",
    "  for i in range(nom):\n",
    "        #Split data and send data to clients\n",
    "        pointers.append(split_send(test_x,session))\n",
    "\n",
    "        #Encrypt model \n",
    "        mpc_model.append(m[i].share(session))\n",
    "  \n",
    "        #Encrypt test data\n",
    "        #test_data=MPCTensor(secret=test_x, session = session)\n",
    "  all_predictions=[]\n",
    "  ap=[]\n",
    "  for i in range(nom):\n",
    "        #Perform inference and measure time taken\n",
    "        #start_time = time.time()\n",
    "\n",
    "        results = []\n",
    "        \n",
    "        for j in range(len(pointers[0])):\n",
    "            encrypted_results = mpc_model[i](pointers[i][j])\n",
    "            plaintext_results = encrypted_results.reconstruct()\n",
    "            results.append(plaintext_results)\n",
    "        prediction = torch.cat(results).reshape([-1])   \n",
    "        #print(\"Model: \", i )\n",
    "        all_predictions.append(prediction)  \n",
    "  \n",
    "  transMatt=transpose(all_predictions)\n",
    "  \n",
    "\n",
    "  for i in range(len(transMatt)):\n",
    "        for j in range(len(transMatt[0])):\n",
    "            transMatt[i][j]=transMatt[i][j].item()\n",
    "  mean=[]\n",
    "  for i in transMatt:\n",
    "        mean.append(statistics.mean(i))\n",
    "      \n",
    "\n",
    "  print(\"MSE Loss mean-simple: \",criterion(torch.Tensor(mean),test_y).item()) \n",
    "  \n",
    "      "
   ]
  },
  {
   "cell_type": "code",
   "execution_count": 38,
   "metadata": {
    "id": "WaDVTEjCMEKq",
    "scrolled": true
   },
   "outputs": [
    {
     "name": "stdout",
     "output_type": "stream",
     "text": [
      "models trained\n",
      "MSE Loss mean-simple:  20.242773056030273\n"
     ]
    }
   ],
   "source": [
    "#secure nodes, nom\n",
    "predictions=inference(3,3,0.1)"
   ]
  },
  {
   "cell_type": "code",
   "execution_count": null,
   "metadata": {},
   "outputs": [],
   "source": []
  },
  {
   "cell_type": "markdown",
   "metadata": {},
   "source": [
    "all predictions:\n",
    "    \n",
    "    [tensor([ 2.5567,  4.9530, 19.2169, 12.0431, 19.0516, 11.7997, 16.3122, -1.2812,\n",
    "         8.8086, -9.0112,  8.7289, 13.4905,  4.6239,  1.1151, 15.0841, 19.8134,\n",
    "        18.3768, 17.5226, 12.9248, 14.0460,  9.2614, 15.6686, 12.3981, 14.4161,\n",
    "        13.1036, 17.8804, 18.4760, 21.7828, 18.1430, 16.3232, 13.8728, 15.1361,\n",
    "         8.7141,  4.1364, 12.4649, 11.2762, 17.4115, 19.2144, 18.2252, 11.0774,\n",
    "        12.4953, 18.2854, 18.3429, 17.4301, 17.5314, 17.8769, 20.0457, 18.9907,\n",
    "        23.3727, 16.3478, 17.0667, 13.6818, 13.7399, 17.7715, 18.8536, 20.0962,\n",
    "        20.9220, 20.3113, 23.3999, 20.3261, 18.0829, 15.1238, 16.1493, 15.3859,\n",
    "        17.1720, 19.6973, 22.4276, 22.2922, 26.0291, 15.0852, 15.0750, 20.1848,\n",
    "         9.3712, 18.2995, 20.8878, 22.9516, 27.0709, 28.7826, 20.6696, 19.3281,\n",
    "        22.4489, 19.2649, 20.9872, 12.7470,  8.8350,  3.8092, 14.9937, 17.4703,\n",
    "        20.7737, 20.7735, 16.7450, 13.5249, 19.3021, 21.5879, 18.3616, 20.7143,\n",
    "        24.5523, 23.1080, 29.0611, 27.4530, 23.1467]), \n",
    "    tensor([ 2.5338,  4.9599, 19.2389, 12.1007, 19.1551, 11.9326, 16.4683, -1.1239,\n",
    "         8.8834, -8.9085,  8.8733, 13.6394,  4.7198,  1.2237, 15.2115, 19.8330,\n",
    "        18.3964, 17.5683, 13.0893, 14.2062,  9.4060, 15.8197, 12.5193, 14.5313,\n",
    "        13.2345, 18.0169, 18.6172, 21.9093, 18.2452, 16.4190, 13.9718, 15.2576,\n",
    "         8.8488,  4.2569, 12.4558, 11.2626, 17.4062, 19.2041, 18.2197, 11.1252,\n",
    "        12.6190, 18.3045, 18.3321, 17.4236, 17.5622, 18.0178, 20.0582, 18.9898,\n",
    "        23.3789, 16.4853, 17.1891, 13.8161, 13.8718, 17.8075, 18.8423, 20.1431,\n",
    "        20.9166, 20.3006, 23.3880, 20.3248, 18.1045, 15.2637, 16.1978, 15.4105,\n",
    "        17.1833, 19.7167, 22.4548, 22.3133, 26.0509, 15.1181, 15.1379, 20.2040,\n",
    "         9.4026, 18.3203, 20.9013, 22.9736, 27.0947, 28.8064, 20.6886, 19.3495,\n",
    "        22.4619, 19.2807, 21.0017, 12.7734,  8.8858,  3.8730, 15.0247, 17.4931,\n",
    "        20.7660, 20.7684, 16.7420, 13.5228, 19.2949, 21.5828, 18.3566, 20.7105,\n",
    "        24.5383, 23.0900, 29.0451, 27.4370, 23.1260]), \n",
    "    tensor([ 2.5597,  4.9578, 19.2220, 12.0693, 19.1000, 11.8728, 16.3860, -1.2014,\n",
    "         8.8477, -8.9524,  8.7954, 13.5571,  4.6718,  1.1812, 15.1403, 19.8118,\n",
    "        18.3747, 17.5389, 12.9992, 14.1202,  9.3264, 15.7409, 12.4588, 14.4652,\n",
    "        13.1590, 17.9409, 18.5384, 21.8369, 18.1788, 16.3582, 13.9100, 15.1849,\n",
    "         8.7715,  4.1906, 12.4513, 11.2644, 17.3968, 19.1953, 18.2105, 11.0918,\n",
    "        12.5453, 18.2810, 18.3241, 17.4140, 17.5335, 17.9314, 20.0367, 18.9759,\n",
    "        23.3605, 16.4007, 17.1119, 13.7320, 13.7894, 17.7737, 18.8325, 20.1029,\n",
    "        20.9030, 20.2903, 23.3757, 20.3129, 18.0812, 15.1767, 16.1628, 15.3917,\n",
    "        17.1721, 19.6938, 22.4274, 22.2907, 26.0294, 15.0923, 15.0986, 20.1839,\n",
    "         9.3824, 18.3015, 20.8890, 22.9502, 27.0687, 28.7794, 20.6648, 19.3253,\n",
    "        22.4386, 19.2570, 20.9835, 12.8473,  8.9484,  3.9300, 15.0950, 17.5669,\n",
    "        20.7952, 20.7982, 16.7710, 13.5466, 19.3190, 21.6092, 18.3826, 20.7342,\n",
    "        24.5578, 23.1117, 29.0636, 27.4546, 23.1469])]"
   ]
  },
  {
   "cell_type": "markdown",
   "metadata": {},
   "source": [
    "all predictions[0]:\n",
    "\n",
    "tensor([ 2.5379,  4.9758, 19.2461, 12.0896, 19.1124, 11.8773, 16.3956, -1.1937,\n",
    "         8.8650, -8.9728,  8.7872, 13.5492,  4.6651,  1.1527, 15.1230, 19.8235,\n",
    "        18.3887, 17.5644, 13.0077, 14.1351,  9.3257, 15.7483, 12.4455, 14.4641,\n",
    "        13.1608, 17.9593, 18.5546, 21.8574, 18.1852, 16.3652, 13.9032, 15.1793,\n",
    "         8.7613,  4.1701, 12.4571, 11.2619, 17.4034, 19.2095, 18.2178, 11.0914,\n",
    "        12.5369, 18.2899, 18.3355, 17.4297, 17.5446, 17.9337, 20.0513, 18.9913,\n",
    "        23.3709, 16.4023, 17.1152, 13.7390, 13.7943, 17.7849, 18.8501, 20.1142,\n",
    "        20.9211, 20.3065, 23.3984, 20.3310, 18.0951, 15.1949, 16.1952, 15.4142,\n",
    "        17.1941, 19.7305, 22.4775, 22.3227, 26.0487, 15.1300, 15.1244, 20.2108,\n",
    "         9.4046, 18.3283, 20.9125, 22.9912, 27.1134, 28.8242, 20.7040, 19.3517,\n",
    "        22.4711, 19.2957, 21.0121, 12.7470,  8.8435,  3.8213, 14.9942, 17.4653,\n",
    "        20.7509, 20.7452, 16.7119, 13.5071, 19.2834, 21.5673, 18.3456, 20.6984,\n",
    "        24.5254, 23.0856, 29.0411, 27.4331, 23.1262])"
   ]
  },
  {
   "cell_type": "code",
   "execution_count": null,
   "metadata": {},
   "outputs": [],
   "source": [
    "a=[[1,2,3,5,6,1,5,6,7,8],[1,8,9,10,11,1,8,9,11,12]]\n",
    "b=np.transpose(a)\n",
    "c=[]\n",
    "for i in range(len(b)):\n",
    "    c.append(sum(b[i]) / len(b[i]))\n",
    "\n",
    "    \n",
    "print(b)\n",
    "print()\n",
    "print(len(a[0]),\"a\")\n",
    "print(len(b[0]),\"b\")\n",
    "print(len(c),\"c\")\n",
    "print()\n",
    "print(c.item())"
   ]
  },
  {
   "cell_type": "code",
   "execution_count": 32,
   "metadata": {},
   "outputs": [
    {
     "name": "stdout",
     "output_type": "stream",
     "text": [
      "1.0\n"
     ]
    }
   ],
   "source": [
    "a = [1, 2, 3]\n",
    "b = torch.Tensor(a)\n",
    "print(b[0].item())"
   ]
  },
  {
   "cell_type": "code",
   "execution_count": null,
   "metadata": {},
   "outputs": [],
   "source": [
    "x = torch.randn(2, 3)\n",
    "\n",
    "print(type(x))\n",
    "torch.transpose(x, -1, 0)"
   ]
  }
 ],
 "metadata": {
  "colab": {
   "name": "testing-17thJan.ipynb",
   "provenance": []
  },
  "kernelspec": {
   "display_name": "Python 3",
   "language": "python",
   "name": "python3"
  },
  "language_info": {
   "codemirror_mode": {
    "name": "ipython",
    "version": 3
   },
   "file_extension": ".py",
   "mimetype": "text/x-python",
   "name": "python",
   "nbconvert_exporter": "python",
   "pygments_lexer": "ipython3",
   "version": "3.7.12"
  }
 },
 "nbformat": 4,
 "nbformat_minor": 1
}
